{
 "cells": [
  {
   "cell_type": "code",
   "execution_count": 6,
   "metadata": {},
   "outputs": [],
   "source": [
    "import numpy as np\n",
    "import matplotlib.pyplot as plt\n",
    "import os"
   ]
  },
  {
   "cell_type": "code",
   "execution_count": 7,
   "metadata": {},
   "outputs": [],
   "source": [
    "from tensorflow.keras.preprocessing.image import ImageDataGenerator"
   ]
  },
  {
   "cell_type": "code",
   "execution_count": 8,
   "metadata": {},
   "outputs": [],
   "source": [
    "gen=ImageDataGenerator(rescale=1/255,horizontal_flip=True,fill_mode='nearest')"
   ]
  },
  {
   "cell_type": "code",
   "execution_count": 9,
   "metadata": {},
   "outputs": [
    {
     "output_type": "execute_result",
     "data": {
      "text/plain": "'c:\\\\Users\\\\vybha\\\\Desktop\\\\Color detection\\\\face-mask-detector\\\\dataset'"
     },
     "metadata": {},
     "execution_count": 9
    }
   ],
   "source": [
    "pwd"
   ]
  },
  {
   "cell_type": "code",
   "execution_count": 10,
   "metadata": {},
   "outputs": [
    {
     "output_type": "stream",
     "name": "stdout",
     "text": "Found 1376 images belonging to 2 classes.\n"
    }
   ],
   "source": [
    "data='C:\\\\Users\\\\vybha\\\\Desktop\\\\Color detection\\\\face-mask-detector\\\\dataset\\\\'\n",
    "train=gen.flow_from_directory(data,target_size=(100,100),class_mode='binary',batch_size=16,color_mode='rgb')"
   ]
  },
  {
   "cell_type": "code",
   "execution_count": 11,
   "metadata": {},
   "outputs": [
    {
     "output_type": "execute_result",
     "data": {
      "text/plain": "{'with_mask': 0, 'without_mask': 1}"
     },
     "metadata": {},
     "execution_count": 11
    }
   ],
   "source": [
    "train.class_indices"
   ]
  },
  {
   "cell_type": "code",
   "execution_count": 12,
   "metadata": {},
   "outputs": [],
   "source": [
    "from tensorflow.keras.models import Sequential\n",
    "from tensorflow.keras.layers import Dense,Flatten,Conv2D,MaxPooling2D,Dropout"
   ]
  },
  {
   "cell_type": "code",
   "execution_count": 13,
   "metadata": {},
   "outputs": [],
   "source": [
    "model=Sequential()\n",
    "model.add(Conv2D(64,(3,3),activation='relu',input_shape=(100,100,3)))\n",
    "model.add(MaxPooling2D((2,2)))\n",
    "model.add(Conv2D(32,(3,3),activation='relu'))\n",
    "model.add(MaxPooling2D((2,2)))\n",
    "model.add(Flatten())\n",
    "model.add(Dense(64,activation='relu'))\n",
    "model.add(Dropout(0.4))\n",
    "model.add(Dense(1,activation='sigmoid'))\n",
    "model.compile(loss='binary_crossentropy',optimizer='adam',metrics=['accuracy'])"
   ]
  },
  {
   "cell_type": "code",
   "execution_count": 14,
   "metadata": {},
   "outputs": [
    {
     "output_type": "stream",
     "name": "stdout",
     "text": "Model: \"sequential\"\n_________________________________________________________________\nLayer (type)                 Output Shape              Param #   \n=================================================================\nconv2d (Conv2D)              (None, 98, 98, 64)        1792      \n_________________________________________________________________\nmax_pooling2d (MaxPooling2D) (None, 49, 49, 64)        0         \n_________________________________________________________________\nconv2d_1 (Conv2D)            (None, 47, 47, 32)        18464     \n_________________________________________________________________\nmax_pooling2d_1 (MaxPooling2 (None, 23, 23, 32)        0         \n_________________________________________________________________\nflatten (Flatten)            (None, 16928)             0         \n_________________________________________________________________\ndense (Dense)                (None, 64)                1083456   \n_________________________________________________________________\ndropout (Dropout)            (None, 64)                0         \n_________________________________________________________________\ndense_1 (Dense)              (None, 1)                 65        \n=================================================================\nTotal params: 1,103,777\nTrainable params: 1,103,777\nNon-trainable params: 0\n_________________________________________________________________\n"
    }
   ],
   "source": [
    "model.summary()"
   ]
  },
  {
   "cell_type": "code",
   "execution_count": 15,
   "metadata": {},
   "outputs": [
    {
     "output_type": "stream",
     "name": "stdout",
     "text": "Epoch 1/10\n86/86 [==============================] - 18s 208ms/step - loss: 0.3191 - accuracy: 0.8488\nEpoch 2/10\n86/86 [==============================] - 21s 239ms/step - loss: 0.1138 - accuracy: 0.9637\nEpoch 3/10\n86/86 [==============================] - 21s 245ms/step - loss: 0.0985 - accuracy: 0.9644\nEpoch 4/10\n86/86 [==============================] - 21s 246ms/step - loss: 0.0793 - accuracy: 0.9717\nEpoch 5/10\n86/86 [==============================] - 21s 247ms/step - loss: 0.0656 - accuracy: 0.9753\nEpoch 6/10\n86/86 [==============================] - 21s 243ms/step - loss: 0.0631 - accuracy: 0.9767\nEpoch 7/10\n86/86 [==============================] - 21s 245ms/step - loss: 0.0528 - accuracy: 0.9833\nEpoch 8/10\n86/86 [==============================] - 21s 247ms/step - loss: 0.0226 - accuracy: 0.9927\nEpoch 9/10\n86/86 [==============================] - 21s 247ms/step - loss: 0.0228 - accuracy: 0.9898\nEpoch 10/10\n86/86 [==============================] - 21s 250ms/step - loss: 0.0355 - accuracy: 0.9876\n"
    },
    {
     "output_type": "execute_result",
     "data": {
      "text/plain": "<tensorflow.python.keras.callbacks.History at 0x1d5a5794eb8>"
     },
     "metadata": {},
     "execution_count": 15
    }
   ],
   "source": [
    "model.fit_generator(train,epochs=10)"
   ]
  },
  {
   "cell_type": "code",
   "execution_count": 16,
   "metadata": {},
   "outputs": [],
   "source": [
    "model.save('MymodelReal.h5')"
   ]
  }
 ],
 "metadata": {
  "language_info": {
   "codemirror_mode": {
    "name": "ipython",
    "version": 3
   },
   "file_extension": ".py",
   "mimetype": "text/x-python",
   "name": "python",
   "nbconvert_exporter": "python",
   "pygments_lexer": "ipython3",
   "version": "3.7.3-final"
  },
  "orig_nbformat": 2,
  "kernelspec": {
   "name": "python3",
   "display_name": "Python 3"
  }
 },
 "nbformat": 4,
 "nbformat_minor": 2
}