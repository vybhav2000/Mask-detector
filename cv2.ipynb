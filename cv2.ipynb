{
 "cells": [
  {
   "cell_type": "code",
   "execution_count": 1,
   "metadata": {},
   "outputs": [],
   "source": [
    "from tensorflow.keras.models import load_model\n",
    "import cv2\n",
    "import numpy as np"
   ]
  },
  {
   "cell_type": "code",
   "execution_count": 2,
   "metadata": {},
   "outputs": [],
   "source": [
    "model=load_model('MymodelReal.h5')"
   ]
  },
  {
   "cell_type": "code",
   "execution_count": 3,
   "metadata": {},
   "outputs": [],
   "source": [
    "def func(img):\n",
    "    img=cv2.resize(img,(100,100),interpolation=cv2.INTER_AREA)\n",
    "    img=np.expand_dims(img,0)\n",
    "    img=np.asarray(img,dtype='float16')\n",
    "    return img"
   ]
  },
  {
   "cell_type": "code",
   "execution_count": 28,
   "metadata": {},
   "outputs": [],
   "source": [
    "cap=cv2.VideoCapture(0)\n",
    "detector=cv2.CascadeClassifier('haarcascade_frontalface_default.xml')\n",
    "while True:\n",
    "    ret,frame=cap.read()\n",
    "    frame1=cv2.cvtColor(frame,cv2.COLOR_BGR2GRAY)\n",
    "    face=detector.detectMultiScale(frame1,1.3,5)\n",
    "    for (x,y,w,h) in face:\n",
    "        i=frame[y-25:y+int(1.15*h),x-25:x+int(1.15*w),:]\n",
    "        i=func(i)\n",
    "        out=int(model.predict(i)[0][0])\n",
    "        if out==0:\n",
    "            txt='Mask_On'\n",
    "            fr=cv2.rectangle(frame,(int(x-25),int(y-25)),(int(x+1.15*w),int(y+1.15*h)),(0,255,0),4)\n",
    "            cv2.putText(fr,txt,org=(x-25,y-35),fontFace=cv2.FONT_HERSHEY_SIMPLEX,color=(0,255,0),fontScale=1,thickness=3)\n",
    "        else:\n",
    "            txt='Mask_Off'\n",
    "            fr=cv2.rectangle(frame,(int(x-25),int(y-25)),(int(x+1.15*w),int(y+1.15*h)),(0,0,255),4)\n",
    "            cv2.putText(fr,txt,org=(x-25,y-35),fontFace=cv2.FONT_HERSHEY_SIMPLEX,color=(0,0,255),fontScale=1,thickness=3)\n",
    "        cv2.imshow('Window',fr)\n",
    "    k=cv2.waitKey(10)\n",
    "    if k==ord('q'):\n",
    "        break\n",
    "cap.release()\n",
    "cv2.destroyAllWindows()"
   ]
  }
 ],
 "metadata": {
  "language_info": {
   "codemirror_mode": {
    "name": "ipython",
    "version": 3
   },
   "file_extension": ".py",
   "mimetype": "text/x-python",
   "name": "python",
   "nbconvert_exporter": "python",
   "pygments_lexer": "ipython3",
   "version": "3.7.3-final"
  },
  "orig_nbformat": 2,
  "kernelspec": {
   "name": "python3",
   "display_name": "Python 3"
  }
 },
 "nbformat": 4,
 "nbformat_minor": 2
}